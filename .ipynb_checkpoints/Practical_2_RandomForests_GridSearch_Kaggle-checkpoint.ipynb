{
 "cells": [
  {
   "cell_type": "markdown",
   "metadata": {
    "id": "makiqfaHCf4J"
   },
   "source": [
    "# Practical 2 \n",
    "\n",
    "# Part I. Random Forests, ROC analysis and Grid Search\n",
    "\n",
    "\n",
    "## Random Forests\n",
    "\n",
    "Ensemble learning is the technique of building multiple models, and then combining them in a manner that is likely to produce better results than individual models.  These models don't have to be classifiers, and can be trained to deal with most tasks. A Random Forest uses one type of ensemble method called bagging to learn multiple decision trees. This forest of Decision Trees is then used to predict the output value by avaraging or voting. As to esnure diversity among various trees, each Decision Tree is constructed using a boostrap sample of the training data, and only a random subset of variables is used at each node. "
   ]
  },
  {
   "cell_type": "markdown",
   "metadata": {
    "id": "A_ZtbGpKCf4N"
   },
   "source": [
    "RandomForestClassifier docs: https://scikit-learn.org/stable/modules/generated/sklearn.ensemble.RandomForestClassifier\n",
    "\n"
   ]
  },
  {
   "cell_type": "markdown",
   "metadata": {
    "id": "R0G6Ymq6m6h5"
   },
   "source": [
    "Next we will work with the Wisconsin breast cancer diagnosis dataset that consists of some input variables about the morphological features of the breast mass and a target variable of 2 classes for the type of the tumor (benign-0 or malignant-1). "
   ]
  },
  {
   "cell_type": "code",
   "execution_count": 1,
   "metadata": {
    "id": "13UgCpXvoPGh"
   },
   "outputs": [],
   "source": [
    "import matplotlib.pyplot as plt\n",
    "import numpy as np\n",
    "from sklearn.metrics import plot_roc_curve\n",
    "from sklearn.datasets import load_breast_cancer\n",
    "from sklearn.model_selection import train_test_split\n"
   ]
  },
  {
   "cell_type": "code",
   "execution_count": 2,
   "metadata": {
    "id": "GQSIgoeq9VJF"
   },
   "outputs": [
    {
     "name": "stdout",
     "output_type": "stream",
     "text": [
      ".. _breast_cancer_dataset:\n",
      "\n",
      "Breast cancer wisconsin (diagnostic) dataset\n",
      "--------------------------------------------\n",
      "\n",
      "**Data Set Characteristics:**\n",
      "\n",
      "    :Number of Instances: 569\n",
      "\n",
      "    :Number of Attributes: 30 numeric, predictive attributes and the class\n",
      "\n",
      "    :Attribute Information:\n",
      "        - radius (mean of distances from center to points on the perimeter)\n",
      "        - texture (standard deviation of gray-scale values)\n",
      "        - perimeter\n",
      "        - area\n",
      "        - smoothness (local variation in radius lengths)\n",
      "        - compactness (perimeter^2 / area - 1.0)\n",
      "        - concavity (severity of concave portions of the contour)\n",
      "        - concave points (number of concave portions of the contour)\n",
      "        - symmetry \n",
      "        - fractal dimension (\"coastline approximation\" - 1)\n",
      "\n",
      "        The mean, standard error, and \"worst\" or largest (mean of the three\n",
      "        largest values) of these features were computed for each image,\n",
      "        resulting in 30 features.  For instance, field 3 is Mean Radius, field\n",
      "        13 is Radius SE, field 23 is Worst Radius.\n",
      "\n",
      "        - class:\n",
      "                - WDBC-Malignant\n",
      "                - WDBC-Benign\n",
      "\n",
      "    :Summary Statistics:\n",
      "\n",
      "    ===================================== ====== ======\n",
      "                                           Min    Max\n",
      "    ===================================== ====== ======\n",
      "    radius (mean):                        6.981  28.11\n",
      "    texture (mean):                       9.71   39.28\n",
      "    perimeter (mean):                     43.79  188.5\n",
      "    area (mean):                          143.5  2501.0\n",
      "    smoothness (mean):                    0.053  0.163\n",
      "    compactness (mean):                   0.019  0.345\n",
      "    concavity (mean):                     0.0    0.427\n",
      "    concave points (mean):                0.0    0.201\n",
      "    symmetry (mean):                      0.106  0.304\n",
      "    fractal dimension (mean):             0.05   0.097\n",
      "    radius (standard error):              0.112  2.873\n",
      "    texture (standard error):             0.36   4.885\n",
      "    perimeter (standard error):           0.757  21.98\n",
      "    area (standard error):                6.802  542.2\n",
      "    smoothness (standard error):          0.002  0.031\n",
      "    compactness (standard error):         0.002  0.135\n",
      "    concavity (standard error):           0.0    0.396\n",
      "    concave points (standard error):      0.0    0.053\n",
      "    symmetry (standard error):            0.008  0.079\n",
      "    fractal dimension (standard error):   0.001  0.03\n",
      "    radius (worst):                       7.93   36.04\n",
      "    texture (worst):                      12.02  49.54\n",
      "    perimeter (worst):                    50.41  251.2\n",
      "    area (worst):                         185.2  4254.0\n",
      "    smoothness (worst):                   0.071  0.223\n",
      "    compactness (worst):                  0.027  1.058\n",
      "    concavity (worst):                    0.0    1.252\n",
      "    concave points (worst):               0.0    0.291\n",
      "    symmetry (worst):                     0.156  0.664\n",
      "    fractal dimension (worst):            0.055  0.208\n",
      "    ===================================== ====== ======\n",
      "\n",
      "    :Missing Attribute Values: None\n",
      "\n",
      "    :Class Distribution: 212 - Malignant, 357 - Benign\n",
      "\n",
      "    :Creator:  Dr. William H. Wolberg, W. Nick Street, Olvi L. Mangasarian\n",
      "\n",
      "    :Donor: Nick Street\n",
      "\n",
      "    :Date: November, 1995\n",
      "\n",
      "This is a copy of UCI ML Breast Cancer Wisconsin (Diagnostic) datasets.\n",
      "https://goo.gl/U2Uwz2\n",
      "\n",
      "Features are computed from a digitized image of a fine needle\n",
      "aspirate (FNA) of a breast mass.  They describe\n",
      "characteristics of the cell nuclei present in the image.\n",
      "\n",
      "Separating plane described above was obtained using\n",
      "Multisurface Method-Tree (MSM-T) [K. P. Bennett, \"Decision Tree\n",
      "Construction Via Linear Programming.\" Proceedings of the 4th\n",
      "Midwest Artificial Intelligence and Cognitive Science Society,\n",
      "pp. 97-101, 1992], a classification method which uses linear\n",
      "programming to construct a decision tree.  Relevant features\n",
      "were selected using an exhaustive search in the space of 1-4\n",
      "features and 1-3 separating planes.\n",
      "\n",
      "The actual linear program used to obtain the separating plane\n",
      "in the 3-dimensional space is that described in:\n",
      "[K. P. Bennett and O. L. Mangasarian: \"Robust Linear\n",
      "Programming Discrimination of Two Linearly Inseparable Sets\",\n",
      "Optimization Methods and Software 1, 1992, 23-34].\n",
      "\n",
      "This database is also available through the UW CS ftp server:\n",
      "\n",
      "ftp ftp.cs.wisc.edu\n",
      "cd math-prog/cpo-dataset/machine-learn/WDBC/\n",
      "\n",
      ".. topic:: References\n",
      "\n",
      "   - W.N. Street, W.H. Wolberg and O.L. Mangasarian. Nuclear feature extraction \n",
      "     for breast tumor diagnosis. IS&T/SPIE 1993 International Symposium on \n",
      "     Electronic Imaging: Science and Technology, volume 1905, pages 861-870,\n",
      "     San Jose, CA, 1993.\n",
      "   - O.L. Mangasarian, W.N. Street and W.H. Wolberg. Breast cancer diagnosis and \n",
      "     prognosis via linear programming. Operations Research, 43(4), pages 570-577, \n",
      "     July-August 1995.\n",
      "   - W.H. Wolberg, W.N. Street, and O.L. Mangasarian. Machine learning techniques\n",
      "     to diagnose breast cancer from fine-needle aspirates. Cancer Letters 77 (1994) \n",
      "     163-171.\n"
     ]
    }
   ],
   "source": [
    "brc = load_breast_cancer()\n",
    "print(brc.DESCR)\n",
    "X = brc.data\n",
    "y = brc.target\n",
    "\n",
    "# Variable names\n",
    "vnames = brc.feature_names"
   ]
  },
  {
   "cell_type": "code",
   "execution_count": 3,
   "metadata": {
    "id": "keD8fwJ3oYow"
   },
   "outputs": [],
   "source": [
    "# Have a quick look at the data, e.g. the shape of input and output, and some descriptive statistics\n",
    "# Your code \n",
    "#\n"
   ]
  },
  {
   "cell_type": "markdown",
   "metadata": {
    "id": "xc5ljqQqxSdj"
   },
   "source": [
    "Split the data into training and test for hold-out cross-validation\n",
    "\n",
    "Note: \n",
    "\n",
    "*   stratify = y to make sure all split of the data have got the same class distribution\n",
    "\n",
    "*   by fixing the random_state, the same training/test split can be obtained (this will be useful for reproducibility) each time you run the code. If the data set is small, one can consider repeat the hold out cross-validation several times with different split. "
   ]
  },
  {
   "cell_type": "code",
   "execution_count": 4,
   "metadata": {
    "colab": {
     "base_uri": "https://localhost:8080/"
    },
    "id": "78S1iRxFsIYS",
    "outputId": "258faaa1-ecdb-43a8-fb87-4a0f8c134d56"
   },
   "outputs": [
    {
     "name": "stdout",
     "output_type": "stream",
     "text": [
      "(341, 30) (341,)\n",
      "(228, 30) (228,)\n"
     ]
    }
   ],
   "source": [
    "X_train, X_test, y_train, y_test = train_test_split(X, y, test_size=0.40, random_state = 21, stratify=y)\n",
    "print(X_train.shape, y_train.shape)\n",
    "print(X_test.shape, y_test.shape)"
   ]
  },
  {
   "cell_type": "markdown",
   "metadata": {
    "id": "pJajLQq-wVKJ"
   },
   "source": [
    "https://scikit-learn.org/stable/auto_examples/model_selection/plot_confusion_matrix.html\n"
   ]
  },
  {
   "cell_type": "code",
   "execution_count": null,
   "metadata": {
    "id": "DfFauEXmCf4O"
   },
   "outputs": [],
   "source": [
    "# Create a random forest classifier \n",
    "# \n",
    "from sklearn.ensemble import RandomForestClassifier\n",
    "from sklearn.metrics import classification_report, confusion_matrix, plot_confusion_matrix\n",
    "rfc = RandomForestClassifier(n_estimators=100, random_state=21)\n",
    "rfc.fit(X_train, y_train)\n",
    "y_test_pred = rfc.predict(X_test)\n",
    "\n",
    "# Check the confusion matrix\n",
    "disp = plot_confusion_matrix(rfc, X_test, y_test,\n",
    "                                 display_labels=None,\n",
    "                                 cmap=plt.cm.Blues)\n",
    "\n",
    "# Just get a classification report.\n",
    "print(classification_report(y_test, y_test_pred))"
   ]
  },
  {
   "cell_type": "markdown",
   "metadata": {
    "id": "10gYmTpixVS4"
   },
   "source": [
    "Exercise: \n",
    "\n",
    "Check the training performance for the model. \n",
    "How does your model perform, is it overfitted? "
   ]
  },
  {
   "cell_type": "markdown",
   "metadata": {
    "id": "VaKTq9Kzyc8J"
   },
   "source": [
    "## Performance measures and ROC analysis\n",
    "\n",
    "Read the slides on blackboard on performance measures and ROC analysis. \n",
    "\n",
    "or check the scikit-learn doc https://scikit-learn.org/stable/modules/model_evaluation.html#roc-metrics\n",
    "\n",
    "or See https://en.wikipedia.org/wiki/Receiver_operating_characteristic\n",
    "for more detailed description on performance measures for binary classification. \n",
    "\n",
    "But before we do this, we must first venture into the wonderfully simplistic, yet incredibly powerful **Confusion Matrix**, as we already see in the practical. In case of binary classification, it is comprised of a single table with 4 combinations of predicted and actual values. \n",
    "\n",
    "- **True Positive/TP:** You have predicted positive, and that is indeed the case.\n",
    "- **True Negative/TN:** You have predicted negative, amd that is indeed the case.\n",
    "- **False Positive/FP/Type 1 Error:** You have predicted positive, where the case is actually negative.\n",
    "- **False Negative/FN/Type 2 Error:** You have predicted negative, where the case is actually positive.\n",
    "\n",
    "Using this simple metric, we are able to calculate an array of performance metrics. For example:\n",
    "\n",
    "$$Recall = {TP \\over{TP + FN}}$$\n",
    "\n",
    "Which calculates how many classes were correctly predicted for the positive task.\n",
    "\n",
    "$$Precision = {TP \\over{TP + FP}}$$\n",
    "\n",
    "Which calculates how many classes were correctly predicted for the negative task.\n",
    "\n",
    "$$F-measure = {2*(Recall*Precision) \\over{Recall + Precision}}$$\n",
    "\n",
    "Uses the harmonic mean to punish the extreme values more, where two models with low precision and high recall (or vice versa).\n",
    "\n",
    "The major calculations are the **true positive rate** or **sensitivity**:\n",
    "\n",
    "$$TPR = {TP \\over{TP+FN}}$$\n",
    "\n",
    "The **false positive rate**:\n",
    "\n",
    "$$FPR = {FP \\over{FP+TN}}$$\n",
    "\n",
    "And the **specificity**:\n",
    "\n",
    "$$Specificity = {TN \\over{TN+FP}}$$\n",
    "\n",
    "\n",
    "The **Reciever Operating Characteristic** (ROC) curve and the **Area Under the Cuve** (AUC) are very popular for evaluating the performance of binary classification models. \n",
    "\n",
    "ROC curve is constructed by plotting false positive rate vs true positive rate (specificity) at various threshold settings (for a continuous output, e.g. the probabilty output given by a decision tree model). AUC is the area under the curve. The best possible model has an AUC of 1, which means that it has a good mesaure of seperability. 0 means that the model has a worst measure of seperability, and where AUC is 0.5 it illustrates that the model has zero class seperation capacity whatsoever.\n",
    "\n",
    "You can see an example on [how to plot ROC curves in scikit-learn]( \n",
    "https://scikit-learn.org/stable/modules/generated/sklearn.metrics.plot_roc_curve.html#sklearn.metrics.plot_roc_curve)\n",
    "or [ROC curves with cross-validation](https://scikit-learn.org/stable/auto_examples/model_selection/plot_roc_crossval.html#sphx-glr-auto-examples-model-selection-plot-roc-crossval-py)\n",
    "\n",
    "Alternatively for lower version of scikit-learn, the example plot ROC in python can be found below:\n",
    "\n",
    "**Note:** This only works for binary classification tasks."
   ]
  },
  {
   "cell_type": "code",
   "execution_count": 6,
   "metadata": {
    "id": "XpTQz3FoOgAe"
   },
   "outputs": [],
   "source": [
    "import matplotlib.pyplot as plt\n",
    "from sklearn.metrics import roc_curve, auc\n",
    "\n",
    "def plot_auc_and_roc(y_true, scores, col='red'):\n",
    "    fpr, tpr, _ = roc_curve(y_true, scores)\n",
    "    calc_auc = auc(fpr, tpr)\n",
    "        \n",
    "    plt.title(\"Recieving Operating Characteristic\")\n",
    "    plt.plot(fpr, tpr, col, label=\"AUC %0.3f\" % calc_auc)\n",
    "    plt.plot([0, 1], [0, 1], \"b--\")\n",
    "    plt.xlim([0, 1])\n",
    "    plt.ylim([0, 1])\n",
    "    plt.legend(loc=\"lower right\")\n",
    "    plt.ylabel('True Positive Rate')\n",
    "    plt.xlabel('False Positive Rate')\n",
    "    plt.show()"
   ]
  },
  {
   "cell_type": "code",
   "execution_count": null,
   "metadata": {
    "id": "tIdGMckdCbgz"
   },
   "outputs": [],
   "source": [
    "from sklearn.metrics import roc_auc_score, plot_roc_curve\n",
    "# only return the probability prediction for class 1\n",
    "y_test_prob = rfc.predict_proba(X_test)[:,1]\n",
    "plot_auc_and_roc(y_test, y_test_prob)"
   ]
  },
  {
   "cell_type": "markdown",
   "metadata": {
    "id": "NoJ_9fsaCf4T"
   },
   "source": [
    "## Exercise: \n",
    "\n",
    "DecisionTreeClassifier has got an attribute \"estimators_\", which is the list of individual decision trees in the forests. Randomly pick two trees to visualise. "
   ]
  },
  {
   "cell_type": "code",
   "execution_count": 8,
   "metadata": {
    "collapsed": true,
    "id": "y_GBm6zuCf4T"
   },
   "outputs": [],
   "source": [
    "import graphviz\n",
    "from sklearn.tree import export_graphviz\n",
    "from IPython.display import SVG\n",
    "\n",
    "def visualise_tree(treeclf):\n",
    "    dot = export_graphviz(treeclf, filled=True, rounded=True)\n",
    "    graph = graphviz.Source(dot)\n",
    "    display(SVG(graph.pipe(format=\"svg\")))"
   ]
  },
  {
   "cell_type": "code",
   "execution_count": 9,
   "metadata": {
    "collapsed": true,
    "id": "UYGJGn3LCf4U"
   },
   "outputs": [],
   "source": [
    "# Your code here \n",
    "#\n"
   ]
  },
  {
   "cell_type": "markdown",
   "metadata": {
    "id": "B6JxrMvUCf4U"
   },
   "source": [
    "## Hyperparameter tuninng using GridSearch\n",
    "\n",
    "According to Wikipedia;\n",
    "\n",
    "\"The traditional way of performing hyperparameter optimisation has been grid search, or a parameter sweep, which is simply an exhaustive searching through a manually specified subset of the hyperparameter space of a learning algorithm. A grid search algorithm must be guided by some performance metric, typically measured by cross-validation on the training set or evaluation on a held-out validation set.\"\n",
    "\n",
    "When tasked with building classifiers, it is not always possible to know what the best parameters are. It is not feasible to \"brue-force\" parameters manually, so we make use of grid search. Grid Search provides us the abilit to specify a range of values from which classifiers can be built and evaluated using to find out the best combintation of parameters.\n",
    "\n",
    "Below is some example code for grid search. Define your own parameter grid and choose the 'best' hyperparameters, and refit the RF classifier to your training data, and report the test performance. \n",
    "\n",
    "GridSearch doc: https://scikit-learn.org/stable/modules/generated/sklearn.model_selection.GridSearchCV.html"
   ]
  },
  {
   "cell_type": "code",
   "execution_count": null,
   "metadata": {
    "id": "cP1LrPgxZDgy"
   },
   "outputs": [],
   "source": [
    "# Utility function to report best scores\n",
    "def report(results, n_top=3):\n",
    "    for i in range(1, n_top + 1):\n",
    "        candidates = np.flatnonzero(results['rank_test_score'] == i)\n",
    "        for candidate in candidates:\n",
    "            print(\"Model with rank: {0}\".format(i))\n",
    "            print(\"Mean validation score: {0:.3f} (std: {1:.3f})\"\n",
    "                  .format(results['mean_test_score'][candidate],\n",
    "                          results['std_test_score'][candidate]))\n",
    "            print(\"Parameters: {0}\".format(results['params'][candidate]))\n",
    "            print(\"\")\n",
    "            \n",
    "from sklearn.model_selection import GridSearchCV\n",
    "# use a full grid over all parameters\n",
    "param_grid = {'n_estimators': [1], \"max_depth\" : [2, 8]}\n",
    "\n",
    "# run grid search\n",
    "grid_search = GridSearchCV(rfc, param_grid=param_grid, cv=5)\n",
    "grid_search.fit(X_train, y_train)\n",
    "report(grid_search.cv_results_)            "
   ]
  },
  {
   "cell_type": "code",
   "execution_count": 11,
   "metadata": {
    "id": "5os-09YgtDwj"
   },
   "outputs": [],
   "source": [
    "# Your code here\n",
    "# Question: what is the performance metric used by default in GridSearchCV? \n",
    "#      Hint: check the parameter scoreing in documentation\n",
    "#"
   ]
  },
  {
   "cell_type": "code",
   "execution_count": 12,
   "metadata": {
    "id": "-SuAt2sOZFak"
   },
   "outputs": [],
   "source": [
    "# Repeat the grid search above but choose a different metric e.g. AUC to score\n",
    "# Your code here\n",
    "#\n"
   ]
  },
  {
   "cell_type": "markdown",
   "metadata": {
    "id": "00-_A9hmCf4V"
   },
   "source": [
    "If you have time, \n",
    "\n",
    "1.  Apply random forests on Titanc data\n",
    "2.  Check the feature_importance_ in the fitted RF classifier. RF's impurity based variable importantance can be used to rank the features, however with some caveat. Please see \n",
    "[this](https://scikit-learn.org/stable/auto_examples/inspection/plot_permutation_importance.html#sphx-glr-auto-examples-inspection-plot-permutation-importance-py)\n",
    "for experiments illustrating the issues of RF feature importance score for variables with high number of values.\n",
    "and [this](https://scikit-learn.org/stable/auto_examples/inspection/plot_permutation_importance_multicollinear.html#sphx-glr-auto-examples-inspection-plot-permutation-importance-multicollinear-py), for general feature selection issues when many variables are highly correlated. "
   ]
  },
  {
   "cell_type": "markdown",
   "metadata": {
    "id": "aU9ny52h2D_Q"
   },
   "source": [
    "# Part II. Inclass Kaggle challenge\n",
    "\n",
    "The challenage will be released today but you have three weeks complete this task and to submit a prediction for automated sign-off. \n",
    "\n",
    "Register for Kaggle using your Aberystwyth University, using your AU email address. But do change your one person Team name in Kaggle with a nick name for fun and for your own privacy.\n",
    "\n",
    "https://www.kaggle.com\n",
    "\n",
    "Log in and follow the link to join the inclass competition:\n",
    "\n",
    "https://www.kaggle.com/t/606aa7f5729a47deac198ce0adc29203\n",
    "\n",
    "A major part of these practicals are to help you go out and do this for yourself. That being said, we do expect you to achieve the following:\n",
    "\n",
    "1. Load in the data, explore the data. Transform data data into a format that a machine learning technique can use.\n",
    "\n",
    "2. Might need to further split the training set into train/validation sets (depending on the sample size of the data with labels and problem at hand. Due to time limit in the class, you may skip this step for today's exercise).\n",
    "\n",
    "3. On the training set, use model selection and some automated hyperparameter tuning techniques (such as grid search or randomized search, see https://scikit-learn.org/stable/modules/grid_search.html) to select a 'best' model (i.e. the model type and the relevant hyperparameters with best performance). Initially, you might start with select one simple model and use the default settings or manual selected hyperparameters, in order to have some rough idea on problem at hand.\n",
    "\n",
    "4. Evaluate the model using an appropriate form of cross-validation, in this case providing the AUC metrics and ROC curves with cross-validation or on the validation set (if made available in the Step2). Is the performance good enough? If not go back to step 3, or repeat step 4 with a different model type and/or hyperparemters.\n",
    "\n",
    "5. Refit the 'best' model (model type and the relevant hyperparameters) to all the training data, then make prediction with probability output on the test set, save the results to a file in an appropriate format.\n",
    "\n",
    "6. Submit the prediction file to Kaggle inclass competition.\n",
    "\n",
    "7. Repeat the procedure from step 3, and see if you can improve the external public validation performance.\n"
   ]
  },
  {
   "cell_type": "code",
   "execution_count": 12,
   "metadata": {
    "collapsed": true,
    "id": "YDnjkwj7Cf4V"
   },
   "outputs": [],
   "source": []
  }
 ],
 "metadata": {
  "colab": {
   "collapsed_sections": [],
   "name": "Practical 2 RandomForests_GridSearch_Kaggle.ipynb",
   "provenance": []
  },
  "kernelspec": {
   "display_name": "Python 3",
   "language": "python",
   "name": "python3"
  },
  "language_info": {
   "codemirror_mode": {
    "name": "ipython",
    "version": 3
   },
   "file_extension": ".py",
   "mimetype": "text/x-python",
   "name": "python",
   "nbconvert_exporter": "python",
   "pygments_lexer": "ipython3",
   "version": "3.8.5"
  }
 },
 "nbformat": 4,
 "nbformat_minor": 1
}
