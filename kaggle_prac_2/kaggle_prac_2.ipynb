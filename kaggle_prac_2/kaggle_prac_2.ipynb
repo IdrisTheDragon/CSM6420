{
 "cells": [
  {
   "cell_type": "code",
   "execution_count": 37,
   "metadata": {},
   "outputs": [
    {
     "name": "stdout",
     "output_type": "stream",
     "text": [
      "IPython version:      7.13.0 (need at least 1.0)\n",
      "Numpy version:        1.17.4 (need at least 1.7.1)\n",
      "SciPy version:         1.4.1 (need at least 0.12.0)\n",
      "Pandas version:        1.2.1 (need at least 0.11.0)\n",
      "Mapltolib version:     3.1.2 (need at least 1.2.1)\n",
      "Scikit-Learn version: 0.22.2 (need at least 0.13.1)\n"
     ]
    }
   ],
   "source": [
    "#IPython is what you are using now to run the notebook\n",
    "import IPython\n",
    "print(\"IPython version:      %6.6s (need at least 1.0)\" % IPython.__version__)\n",
    "\n",
    "# Numpy is a library for working with Arrays\n",
    "import numpy as np\n",
    "print(\"Numpy version:        %6.6s (need at least 1.7.1)\" % np.__version__)\n",
    "\n",
    "# SciPy implements many different numerical algorithms\n",
    "import scipy as sp\n",
    "print(\"SciPy version:        %6.6s (need at least 0.12.0)\" % sp.__version__)\n",
    "\n",
    "# Pandas makes working with data tables easier\n",
    "import pandas as pd\n",
    "print(\"Pandas version:       %6.6s (need at least 0.11.0)\" % pd.__version__)\n",
    "\n",
    "# Module for plotting\n",
    "import matplotlib\n",
    "import matplotlib.pyplot as plt\n",
    "print(\"Mapltolib version:    %6.6s (need at least 1.2.1)\" % matplotlib.__version__)\n",
    "\n",
    "# SciKit Learn implements several Machine Learning algorithms\n",
    "import sklearn\n",
    "print(\"Scikit-Learn version: %6.6s (need at least 0.13.1)\" % sklearn.__version__)"
   ]
  },
  {
   "cell_type": "code",
   "execution_count": 56,
   "metadata": {},
   "outputs": [
    {
     "name": "stdout",
     "output_type": "stream",
     "text": [
      "(1000, 1025)\n",
      "             Class          D_0          D_1         D_2          D_3  \\\n",
      "count  1000.000000  1000.000000  1000.000000  1000.00000  1000.000000   \n",
      "mean      0.762000     0.013000     0.239000     0.04600     0.059000   \n",
      "std       0.426072     0.113331     0.426686     0.20959     0.235743   \n",
      "min       0.000000     0.000000     0.000000     0.00000     0.000000   \n",
      "25%       1.000000     0.000000     0.000000     0.00000     0.000000   \n",
      "50%       1.000000     0.000000     0.000000     0.00000     0.000000   \n",
      "75%       1.000000     0.000000     0.000000     0.00000     0.000000   \n",
      "max       1.000000     1.000000     1.000000     1.00000     1.000000   \n",
      "\n",
      "               D_4          D_5          D_6          D_7         D_8  ...  \\\n",
      "count  1000.000000  1000.000000  1000.000000  1000.000000  1000.00000  ...   \n",
      "mean      0.149000     0.080000     0.003000     0.015000     0.04600  ...   \n",
      "std       0.356267     0.271429     0.054717     0.121613     0.20959  ...   \n",
      "min       0.000000     0.000000     0.000000     0.000000     0.00000  ...   \n",
      "25%       0.000000     0.000000     0.000000     0.000000     0.00000  ...   \n",
      "50%       0.000000     0.000000     0.000000     0.000000     0.00000  ...   \n",
      "75%       0.000000     0.000000     0.000000     0.000000     0.00000  ...   \n",
      "max       1.000000     1.000000     1.000000     1.000000     1.00000  ...   \n",
      "\n",
      "            D_1014       D_1015       D_1016      D_1017       D_1018  \\\n",
      "count  1000.000000  1000.000000  1000.000000  1000.00000  1000.000000   \n",
      "mean      0.028000     0.009000     0.005000     0.11400     0.010000   \n",
      "std       0.165055     0.094488     0.070569     0.31797     0.099549   \n",
      "min       0.000000     0.000000     0.000000     0.00000     0.000000   \n",
      "25%       0.000000     0.000000     0.000000     0.00000     0.000000   \n",
      "50%       0.000000     0.000000     0.000000     0.00000     0.000000   \n",
      "75%       0.000000     0.000000     0.000000     0.00000     0.000000   \n",
      "max       1.000000     1.000000     1.000000     1.00000     1.000000   \n",
      "\n",
      "            D_1019       D_1020       D_1021       D_1022       D_1023  \n",
      "count  1000.000000  1000.000000  1000.000000  1000.000000  1000.000000  \n",
      "mean      0.481000     0.065000     0.032000     0.019000     0.006000  \n",
      "std       0.499889     0.246649     0.176088     0.136593     0.077266  \n",
      "min       0.000000     0.000000     0.000000     0.000000     0.000000  \n",
      "25%       0.000000     0.000000     0.000000     0.000000     0.000000  \n",
      "50%       0.000000     0.000000     0.000000     0.000000     0.000000  \n",
      "75%       1.000000     0.000000     0.000000     0.000000     0.000000  \n",
      "max       1.000000     1.000000     1.000000     1.000000     1.000000  \n",
      "\n",
      "[8 rows x 1025 columns]\n"
     ]
    }
   ],
   "source": [
    "\n",
    "\n",
    "train_data = pd.read_csv('train.csv')\n",
    "\n",
    "\n",
    "\n",
    "print(train_data.shape)\n",
    "print(train_data.describe())\n",
    "\n",
    "cols = train_data.columns.tolist()\n",
    "#print(cols)\n",
    "\n",
    "y = train_data[\"Class\"].values\n",
    "X = train_data.values[:,1:]\n",
    "\n",
    "if X.shape[0] != y.shape[0]:\n",
    "    raise Exception(\"Sample counts do not align! Try again!\")\n",
    "\n",
    "from sklearn.model_selection import train_test_split\n",
    "\n",
    "# Split the data into 80% training, 20% testing\n",
    "X_train, X_test, y_train, y_test = train_test_split(X, y, test_size=0.2)\n"
   ]
  },
  {
   "cell_type": "code",
   "execution_count": null,
   "metadata": {},
   "outputs": [],
   "source": [
    "feature_names = list(train_data)[1:4]\n",
    "#print(feature_names)\n",
    "X = train_data[feature_names]\n",
    "y = train_data['Class']\n",
    "\n",
    "cmap = plt.cm.get_cmap('gnuplot')\n",
    "scatter = pd.plotting.scatter_matrix(X, c = y, marker = 'o', s=40, \n",
    "    hist_kwds={'bins':15}, \n",
    "    figsize=(9,9), cmap = cmap)\n",
    "plt.suptitle('Scatter-matrix for each input variable')\n",
    "plt.savefig('scatter_matrix')"
   ]
  },
  {
   "cell_type": "markdown",
   "metadata": {},
   "source": [
    "## DecisionTreeClassifier"
   ]
  },
  {
   "cell_type": "code",
   "execution_count": 25,
   "metadata": {},
   "outputs": [
    {
     "name": "stdout",
     "output_type": "stream",
     "text": [
      "              precision    recall  f1-score   support\n",
      "\n",
      "           0       0.73      0.30      0.42        37\n",
      "           1       0.86      0.98      0.91       163\n",
      "\n",
      "    accuracy                           0.85       200\n",
      "   macro avg       0.80      0.64      0.67       200\n",
      "weighted avg       0.84      0.85      0.82       200\n",
      "\n"
     ]
    }
   ],
   "source": [
    "from sklearn.metrics import classification_report\n",
    "from sklearn.tree import DecisionTreeClassifier\n",
    "\n",
    "clf = DecisionTreeClassifier(criterion='entropy',max_depth=2)\n",
    "clf.fit(X_train, y_train)\n",
    "y_pred = clf.predict(X_test)\n",
    "\n",
    "# Just get a classification report.\n",
    "print(classification_report(y_test, y_pred))"
   ]
  },
  {
   "cell_type": "code",
   "execution_count": 22,
   "metadata": {},
   "outputs": [],
   "source": [
    "# my way\n",
    "test_data = pd.read_csv('test.csv')\n",
    "x_test = test_data.values[:,1:]\n",
    "y = test_data[\"TestId\"].values\n",
    "\n",
    "y_pred = clf.predict(x_test)\n",
    "y_pred = clf.predict_proba(x_test)[:,1]\n",
    "\n",
    "d = {'TestId': y, 'PredictedScore': y_pred}\n",
    "df = pd.DataFrame(data=d)\n",
    "df.to_csv('submissionDTC.csv',index=False)"
   ]
  },
  {
   "cell_type": "code",
   "execution_count": 23,
   "metadata": {},
   "outputs": [],
   "source": [
    "# suggested way..\n",
    "test = pd.read_csv(\"test.csv\", index_col=0)\n",
    "y_pred = clf.predict(test.values)\n",
    "proba = clf.predict_proba(test.values)[:, 1]\n",
    "results = pd.DataFrame(proba, columns=[\"PredictedScore\"])\n",
    "results.index = test.index.values\n",
    "results.index.names = [\"TestId\"]\n",
    "results.to_csv(\"submissionDTC.csv\") "
   ]
  },
  {
   "cell_type": "markdown",
   "metadata": {},
   "source": [
    "## Random Forest"
   ]
  },
  {
   "cell_type": "code",
   "execution_count": 32,
   "metadata": {},
   "outputs": [
    {
     "name": "stdout",
     "output_type": "stream",
     "text": [
      "              precision    recall  f1-score   support\n",
      "\n",
      "           0       0.73      0.51      0.60        37\n",
      "           1       0.90      0.96      0.93       163\n",
      "\n",
      "    accuracy                           0.88       200\n",
      "   macro avg       0.81      0.74      0.76       200\n",
      "weighted avg       0.87      0.88      0.87       200\n",
      "\n"
     ]
    },
    {
     "data": {
      "image/png": "[encoded data removed]",
      "text/plain": [
       "<Figure size 432x288 with 2 Axes>"
      ]
     },
     "metadata": {
      "needs_background": "light"
     },
     "output_type": "display_data"
    }
   ],
   "source": [
    "from sklearn.ensemble import RandomForestClassifier\n",
    "from sklearn.metrics import classification_report, confusion_matrix, plot_confusion_matrix\n",
    "rfc = RandomForestClassifier(n_estimators=1000, random_state=100)\n",
    "rfc.fit(X_train, y_train)\n",
    "y_test_pred = rfc.predict(X_test)\n",
    "\n",
    "# Check the confusion matrix\n",
    "disp = plot_confusion_matrix(rfc, X_test, y_test,\n",
    "                                 display_labels=None,\n",
    "                                 cmap=plt.cm.Blues)\n",
    "\n",
    "# Just get a classification report.\n",
    "print(classification_report(y_test, y_test_pred))"
   ]
  },
  {
   "cell_type": "code",
   "execution_count": 33,
   "metadata": {},
   "outputs": [],
   "source": [
    "test = pd.read_csv(\"test.csv\", index_col=0)\n",
    "y_pred = rfc.predict(test.values)\n",
    "proba = rfc.predict_proba(test.values)[:, 1]\n",
    "results = pd.DataFrame(proba, columns=[\"PredictedScore\"])\n",
    "results.index = test.index.values\n",
    "results.index.names = [\"TestId\"]\n",
    "results.to_csv(\"submissionRFC.csv\") "
   ]
  },
  {
   "cell_type": "markdown",
   "metadata": {},
   "source": [
    "## GridSearch"
   ]
  },
  {
   "cell_type": "code",
   "execution_count": 48,
   "metadata": {},
   "outputs": [
    {
     "name": "stdout",
     "output_type": "stream",
     "text": [
      "Model with rank: 1\n",
      "Mean validation score: 0.878 (std: 0.015)\n",
      "Parameters: {'max_depth': 24, 'n_estimators': 21}\n",
      "\n",
      "Model with rank: 2\n",
      "Mean validation score: 0.876 (std: 0.014)\n",
      "Parameters: {'max_depth': 24, 'n_estimators': 20}\n",
      "\n",
      "Model with rank: 2\n",
      "Mean validation score: 0.876 (std: 0.016)\n",
      "Parameters: {'max_depth': 24, 'n_estimators': 23}\n",
      "\n"
     ]
    }
   ],
   "source": [
    "# Utility function to report best scores\n",
    "def report(results, n_top=3):\n",
    "    for i in range(1, n_top + 1):\n",
    "        candidates = np.flatnonzero(results['rank_test_score'] == i)\n",
    "        for candidate in candidates:\n",
    "            print(\"Model with rank: {0}\".format(i))\n",
    "            print(\"Mean validation score: {0:.3f} (std: {1:.3f})\"\n",
    "                  .format(results['mean_test_score'][candidate],\n",
    "                          results['std_test_score'][candidate]))\n",
    "            print(\"Parameters: {0}\".format(results['params'][candidate]))\n",
    "            print(\"\")\n",
    "            \n",
    "from sklearn.model_selection import GridSearchCV\n",
    "# use a full grid over all parameters\n",
    "param_grid = {'n_estimators': range(20,70,1), \"max_depth\" : range(20,30,1)}\n",
    "\n",
    "# run grid search\n",
    "grid_search = GridSearchCV(rfc, param_grid=param_grid, cv=5)\n",
    "grid_search.fit(X_train, y_train)\n",
    "report(grid_search.cv_results_)"
   ]
  },
  {
   "cell_type": "code",
   "execution_count": 49,
   "metadata": {},
   "outputs": [],
   "source": [
    "test = pd.read_csv(\"test.csv\", index_col=0)\n",
    "y_pred = grid_search.predict(test.values)\n",
    "proba = grid_search.predict_proba(test.values)[:, 1]\n",
    "results = pd.DataFrame(proba, columns=[\"PredictedScore\"])\n",
    "results.index = test.index.values\n",
    "results.index.names = [\"TestId\"]\n",
    "results.to_csv(\"submissionGS.csv\") "
   ]
  },
  {
   "cell_type": "markdown",
   "metadata": {},
   "source": [
    "## Gaussian NB"
   ]
  },
  {
   "cell_type": "code",
   "execution_count": 39,
   "metadata": {},
   "outputs": [
    {
     "name": "stdout",
     "output_type": "stream",
     "text": [
      "              precision    recall  f1-score   support\n",
      "\n",
      "           0       0.27      0.67      0.39        43\n",
      "           1       0.85      0.51      0.64       157\n",
      "\n",
      "    accuracy                           0.55       200\n",
      "   macro avg       0.56      0.59      0.51       200\n",
      "weighted avg       0.73      0.55      0.58       200\n",
      "\n"
     ]
    },
    {
     "data": {
      "image/png": "[encoded data removed]",
      "text/plain": [
       "<Figure size 432x288 with 2 Axes>"
      ]
     },
     "metadata": {
      "needs_background": "light"
     },
     "output_type": "display_data"
    }
   ],
   "source": [
    "from sklearn.naive_bayes import GaussianNB\n",
    "gnb = GaussianNB()\n",
    "gnb.fit(X_train, y_train)\n",
    "\n",
    "y_test_pred = gnb.predict(X_test)\n",
    "\n",
    "# Check the confusion matrix\n",
    "disp = plot_confusion_matrix(rfc, X_test, y_test,\n",
    "                                 display_labels=None,\n",
    "                                 cmap=plt.cm.Blues)\n",
    "\n",
    "# Just get a classification report.\n",
    "print(classification_report(y_test, y_test_pred))"
   ]
  },
  {
   "cell_type": "code",
   "execution_count": 40,
   "metadata": {},
   "outputs": [],
   "source": [
    "test = pd.read_csv(\"test.csv\", index_col=0)\n",
    "y_pred = gnb.predict(test.values)\n",
    "proba = gnb.predict_proba(test.values)[:, 1]\n",
    "results = pd.DataFrame(proba, columns=[\"PredictedScore\"])\n",
    "results.index = test.index.values\n",
    "results.index.names = [\"TestId\"]\n",
    "results.to_csv(\"submissionGNB.csv\") "
   ]
  },
  {
   "cell_type": "markdown",
   "metadata": {},
   "source": [
    "## SVC"
   ]
  },
  {
   "cell_type": "code",
   "execution_count": 50,
   "metadata": {},
   "outputs": [
    {
     "name": "stdout",
     "output_type": "stream",
     "text": [
      "              precision    recall  f1-score   support\n",
      "\n",
      "           0       0.76      0.60      0.68        43\n",
      "           1       0.90      0.95      0.92       157\n",
      "\n",
      "    accuracy                           0.88       200\n",
      "   macro avg       0.83      0.78      0.80       200\n",
      "weighted avg       0.87      0.88      0.87       200\n",
      "\n"
     ]
    },
    {
     "data": {
      "image/png": "[encoded data removed]",
      "text/plain": [
       "<Figure size 432x288 with 2 Axes>"
      ]
     },
     "metadata": {
      "needs_background": "light"
     },
     "output_type": "display_data"
    }
   ],
   "source": [
    "from sklearn.svm import SVC\n",
    "svm = SVC()\n",
    "svm.fit(X_train, y_train)\n",
    "\n",
    "y_test_pred = svm.predict(X_test)\n",
    "\n",
    "# Check the confusion matrix\n",
    "disp = plot_confusion_matrix(rfc, X_test, y_test,\n",
    "                                 display_labels=None,\n",
    "                                 cmap=plt.cm.Blues)\n",
    "\n",
    "# Just get a classification report.\n",
    "print(classification_report(y_test, y_test_pred))"
   ]
  },
  {
   "cell_type": "code",
   "execution_count": 51,
   "metadata": {},
   "outputs": [],
   "source": [
    "test = pd.read_csv(\"test.csv\", index_col=0)\n",
    "y_pred = svm.predict(test.values)\n",
    "#proba = svm.predict_proba(test.values)[:, 1]\n",
    "results = pd.DataFrame(y_pred, columns=[\"PredictedScore\"])\n",
    "results.index = test.index.values\n",
    "results.index.names = [\"TestId\"]\n",
    "results.to_csv(\"submissionSVC.csv\") "
   ]
  },
  {
   "cell_type": "markdown",
   "metadata": {},
   "source": [
    "## KNN"
   ]
  },
  {
   "cell_type": "code",
   "execution_count": 53,
   "metadata": {},
   "outputs": [
    {
     "name": "stdout",
     "output_type": "stream",
     "text": [
      "              precision    recall  f1-score   support\n",
      "\n",
      "           0       0.80      0.47      0.59        43\n",
      "           1       0.87      0.97      0.92       157\n",
      "\n",
      "    accuracy                           0.86       200\n",
      "   macro avg       0.83      0.72      0.75       200\n",
      "weighted avg       0.85      0.86      0.85       200\n",
      "\n"
     ]
    },
    {
     "data": {
      "image/png": "[encoded data removed]",
      "text/plain": [
       "<Figure size 432x288 with 2 Axes>"
      ]
     },
     "metadata": {
      "needs_background": "light"
     },
     "output_type": "display_data"
    }
   ],
   "source": [
    "from sklearn.neighbors import KNeighborsClassifier\n",
    "knn = KNeighborsClassifier()\n",
    "knn.fit(X_train, y_train)\n",
    "\n",
    "y_test_pred = knn.predict(X_test)\n",
    "\n",
    "# Check the confusion matrix\n",
    "disp = plot_confusion_matrix(rfc, X_test, y_test,\n",
    "                                 display_labels=None,\n",
    "                                 cmap=plt.cm.Blues)\n",
    "\n",
    "# Just get a classification report.\n",
    "print(classification_report(y_test, y_test_pred))"
   ]
  },
  {
   "cell_type": "code",
   "execution_count": 54,
   "metadata": {},
   "outputs": [],
   "source": [
    "test = pd.read_csv(\"test.csv\", index_col=0)\n",
    "y_pred = knn.predict(test.values)\n",
    "proba = knn.predict_proba(test.values)[:, 1]\n",
    "results = pd.DataFrame(proba, columns=[\"PredictedScore\"])\n",
    "results.index = test.index.values\n",
    "results.index.names = [\"TestId\"]\n",
    "results.to_csv(\"submissionKNN.csv\") "
   ]
  },
  {
   "cell_type": "code",
   "execution_count": null,
   "metadata": {},
   "outputs": [],
   "source": []
  }
 ],
 "metadata": {
  "kernelspec": {
   "display_name": "Python 3",
   "language": "python",
   "name": "python3"
  }
 },
 "nbformat": 4,
 "nbformat_minor": 4
}
